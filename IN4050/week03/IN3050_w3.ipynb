{
 "cells": [
  {
   "cell_type": "markdown",
   "metadata": {},
   "source": [
    "# IN3050/IN4050 - Week 3\n",
    "## Representations"
   ]
  },
  {
   "cell_type": "markdown",
   "metadata": {},
   "source": [
    "### 1. ![Naming_Question](EA_Terms.png)"
   ]
  },
  {
   "cell_type": "markdown",
   "metadata": {},
   "source": [
    "Name the terms shown in the picture above."
   ]
  },
  {
   "cell_type": "code",
   "execution_count": 2,
   "metadata": {},
   "outputs": [],
   "source": [
    "# Add your solution here\n",
    "# A: Locus the position of the gene\n",
    "\n",
    "# B: Allele: the values the gene can have(0 or 1)\n",
    "\n",
    "# C: Gene, one of element of the array\n",
    "\n",
    "# D: Genotype, a set of gene values(the gene array)\n",
    "\n",
    "# E: Phenotype: what could be built/developed based on the genotype"
   ]
  },
  {
   "cell_type": "markdown",
   "metadata": {},
   "source": [
    "### 2. Mention some of the most common representations of genomes."
   ]
  },
  {
   "cell_type": "code",
   "execution_count": 3,
   "metadata": {},
   "outputs": [],
   "source": [
    "# Add your solution here\n",
    "# Binary \n",
    "# Integer\n",
    "# Cardinal/enumerated/symbolic\n",
    "# Real-valued or floating-point\n",
    "# Permutation\n",
    "# Tree"
   ]
  },
  {
   "cell_type": "markdown",
   "metadata": {},
   "source": [
    "### 3. Perform a mutation operation on the representations given below.\n",
    "\n",
    "binary = $[1, 0, 1, 1]$;\n",
    "integer = $[4, 2, 4, 1]$;\n",
    "real_valued = $[2.53, 1.42, 3.14, 1.68]$;\n",
    "permutation = $[3, 4, 1, 2]$"
   ]
  },
  {
   "cell_type": "code",
   "execution_count": 15,
   "metadata": {},
   "outputs": [
    {
     "name": "stdout",
     "output_type": "stream",
     "text": [
      "Before mutation: [1, 0, 1, 1]; And after mutation [1, 0, 1, 0]\n",
      "Before mutation: [4, 2, 4, 1]; And after mutation [4, 2, 7, 1]\n",
      "Before mutation: [2.53, 1.42, 3.14, 1.68]; And after mutation [2.5577381569987114, 1.450523800900774, 3.051732903192823, 1.70808289884345]\n",
      "Before mutation: [3, 4, 1, 2]; And after mutation [2, 4, 1, 3]\n"
     ]
    }
   ],
   "source": [
    "import random \n",
    "import numpy as np\n",
    "\n",
    "binary =  [1,0,1,1]\n",
    "integer =  [4,2,4,1]\n",
    "real_valued =  [2.53,1.42,3.14,1.68] \n",
    "permutation =  [3,4,1,2]\n",
    "\n",
    "def bit_flip(genotype, pm=0.5):\n",
    "    for i in range(len(genotype)):\n",
    "        if random.random() < pm:\n",
    "            genotype[i] = 1 - genotype[i]\n",
    "    return genotype\n",
    "\n",
    "def creep(genotype, pm=0.5):\n",
    "    for i in range(len(genotype)):\n",
    "        if random.random() < pm:\n",
    "            genotype[i] = genotype[i] + np.random.randint(-5, 5)\n",
    "    return genotype\n",
    "\n",
    "def random_resetting(genotype, min_reset=-10, max_reset=10, pm=0.5):\n",
    "    for i in range(len(genotype)):\n",
    "        if random.random() < pm:\n",
    "            genotype[i] = np.random.randint(min_reset, max_reset)\n",
    "    return genotype\n",
    "\n",
    "def uniform_mutation(genotype, lower=-10, upper=10, pm=1.0):\n",
    "    for i in range(len(genotype)):\n",
    "        if random.random() < pm:\n",
    "            genotype[i] = np.random.uniform(lower, upper)\n",
    "    return genotype\n",
    "\n",
    "def gaussian_mutation(genotype, sigma=0.1, pm=1.0):\n",
    "    for i in range(len(genotype)):\n",
    "        if random.random() < pm:\n",
    "            genotype[i] = genotype[i] + np.random.normal(0, sigma)\n",
    "    return genotype\n",
    "\n",
    "def swap_mutation(genotype):\n",
    "    locuses = np.random.choice(len(genotype), 2, replace=False)\n",
    "    genotype[locuses[0]], genotype[locuses[1]] = genotype[locuses[1]], genotype[locuses[0]]\n",
    "    return genotype\n",
    "\n",
    "def insert_mutation(genotype):\n",
    "    locuses = np.random.choice(len(genotype), 2, replace=False)\n",
    "    genotype.insert(locuses[0]), genotype.pop(locuses[1])\n",
    "    return genotype\n",
    "\n",
    "def scramble_mutation(genotype):\n",
    "    genotype_copy=genotype.copy()\n",
    "    locuses = np.random.choice(len(genotype), np.random.randint(2, len(genotype)), replace=False)\n",
    "    locus_list = locuses.tolist()\n",
    "    for locus in locuses:\n",
    "        if len(locus_list) == 1:\n",
    "            genotype[locus] = genotype_copy[locus_list[0]]\n",
    "        else:\n",
    "            genotype[locus] = genotype_copy[locus_list.pop(np.random.randint(0, len(locus_list)))]\n",
    "    return genotype\n",
    "\n",
    "def inversion_mutation(genotype):\n",
    "    locuses = np.random.choice(len(genotype), 2, replace = False)\n",
    "    genotype[locuses[0]:locuses[1]+1] = genotype[locuses[0]:locuses[1]+1][::-1]\n",
    "    return genotype\n",
    "    \n",
    "print(f'Before mutation: {binary}; And after mutation {bit_flip(binary)}')\n",
    "print(f'Before mutation: {integer}; And after mutation {random_resetting(integer)}')\n",
    "print(f'Before mutation: {real_valued}; And after mutation {gaussian_mutation(real_valued)}')\n",
    "print(f'Before mutation: {permutation}; And after mutation {scramble_mutation(permutation)}')"
   ]
  },
  {
   "cell_type": "markdown",
   "metadata": {},
   "source": [
    "### 4. Given the sequences (2,4,7,1,3,6,8,9,5) and (5,9,8,6,2,4,1,3,7). Implement these algorithms to create a new pair of solutions: "
   ]
  },
  {
   "cell_type": "markdown",
   "metadata": {},
   "source": [
    "#### a. Partially mapped crossover (PMX)"
   ]
  },
  {
   "cell_type": "code",
   "execution_count": 16,
   "metadata": {},
   "outputs": [],
   "source": [
    "def pmx(a, b, start, stop):\n",
    "    child = [None]*len(a)\n",
    "    \n",
    "    child[start:stop] = a[start:stop]\n",
    "    \n",
    "    for ind, x in enumerate(b[start:stop]):\n",
    "        ind += start\n",
    "        if x not in child:\n",
    "            while child[ind] != None:\n",
    "                ind = b.index(a[ind])\n",
    "            child[ind] = x\n",
    "    \n",
    "    for ind, x in enumerate(child):\n",
    "        if x == None: \n",
    "            child[ind] = b[ind]\n",
    "    return child\n",
    "\n",
    "def pmx_pair(a, b):\n",
    "    half = len(a) // 2\n",
    "    start = np.random.randint(0, len(a)-half)\n",
    "    stop = start + half\n",
    "    return pmx(a,b,start, stop), pmx(b, a, start, stop)"
   ]
  },
  {
   "cell_type": "markdown",
   "metadata": {},
   "source": [
    "#### b. Order crossover"
   ]
  },
  {
   "cell_type": "code",
   "execution_count": 11,
   "metadata": {},
   "outputs": [],
   "source": [
    "def order_crossover(a, b, start, stop):\n",
    "    child = [None]*len(a)\n",
    "    child[start:stop] = a[start:stop]\n",
    "    b_ind = stop\n",
    "    c_ind = stop\n",
    "    \n",
    "    l = len(a)\n",
    "    while None in child:\n",
    "        if b[ind_b % l] not in child:\n",
    "            child[c_ind%l] = b[b_ind%l]\n",
    "            c_ind +=1\n",
    "        b_ind +=1\n",
    "    return child\n",
    "\n",
    "def order_crossover_pair(a, b):\n",
    "    half = len(a) // 2\n",
    "    start = np.random.randint(0, len(a)-half)\n",
    "    stop = start + half\n",
    "    return order_crossover(a,b,start, stop), order_crossover(b, a, start, stop)"
   ]
  },
  {
   "cell_type": "markdown",
   "metadata": {},
   "source": [
    "#### c. Cycle crossover"
   ]
  },
  {
   "cell_type": "code",
   "execution_count": 10,
   "metadata": {},
   "outputs": [],
   "source": [
    "# Add your solution here"
   ]
  },
  {
   "cell_type": "markdown",
   "metadata": {},
   "source": [
    "#### Test crossovers"
   ]
  },
  {
   "cell_type": "code",
   "execution_count": 13,
   "metadata": {},
   "outputs": [
    {
     "name": "stdout",
     "output_type": "stream",
     "text": [
      "Parents: [2, 4, 7, 1, 3, 6, 8, 9, 5] and [5, 9, 8, 6, 2, 4, 1, 3, 7]\n",
      "Children after PMX: None and None\n",
      "Children after Order Crossover: None and None\n",
      "Children after Cycle Crossover: None and None\n"
     ]
    }
   ],
   "source": [
    "a = [2, 4, 7, 1, 3, 6, 8, 9, 5]\n",
    "b = [5, 9, 8, 6, 2, 4, 1, 3, 7]\n",
    "c, d = pmx_pair(a, b)\n",
    "e, f = order_crossover_pair(a, b)\n",
    "g, h = cycle_crossover_pair(a, b)\n",
    "print(f\"Parents: {a} and {b}\")\n",
    "print(f\"Children after PMX: {c} and {d}\")\n",
    "print(f\"Children after Order Crossover: {e} and {f}\")\n",
    "print(f\"Children after Cycle Crossover: {g} and {h}\")"
   ]
  },
  {
   "cell_type": "code",
   "execution_count": null,
   "metadata": {},
   "outputs": [],
   "source": []
  }
 ],
 "metadata": {
  "kernelspec": {
   "display_name": "Python 3",
   "language": "python",
   "name": "python3"
  },
  "language_info": {
   "codemirror_mode": {
    "name": "ipython",
    "version": 3
   },
   "file_extension": ".py",
   "mimetype": "text/x-python",
   "name": "python",
   "nbconvert_exporter": "python",
   "pygments_lexer": "ipython3",
   "version": "3.8.5"
  }
 },
 "nbformat": 4,
 "nbformat_minor": 2
}
